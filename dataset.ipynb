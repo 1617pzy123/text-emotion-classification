{
 "cells": [
  {
   "cell_type": "code",
   "execution_count": 1,
   "id": "8f74fbd4",
   "metadata": {},
   "outputs": [],
   "source": [
    "import torch\n",
    "from torch.utils.data import Dataset\n",
    "import jieba\n",
    "import pandas as pd\n",
    "import gensim\n",
    "import numpy as np"
   ]
  },
  {
   "cell_type": "code",
   "execution_count": 2,
   "id": "ed54a3e8",
   "metadata": {},
   "outputs": [],
   "source": [
    "\n",
    "def read_csv(file_path):\n",
    "    df = pd.read_csv(file_path)\n",
    "    texts = df['文本'].tolist()\n",
    "    features = df['分类'].tolist()\n",
    "    emotions = [1 if emotion == 'positive' else 0 for emotion in df['情感'].tolist()]\n",
    "    return texts, features, emotions\n"
   ]
  },
  {
   "cell_type": "code",
   "execution_count": 3,
   "id": "7a7fcb47",
   "metadata": {},
   "outputs": [],
   "source": [
    "class TextDataset(Dataset):\n",
    "    def __init__(self, texts, features, emotions, tokenizer, vocab, feature_vocab):\n",
    "        self.texts = texts\n",
    "        self.features = features\n",
    "        self.emotions = emotions\n",
    "        self.tokenizer = tokenizer\n",
    "        self.vocab = vocab\n",
    "        self.feature_vocab = feature_vocab\n",
    "\n",
    "    def __len__(self):\n",
    "        return len(self.texts)\n",
    "\n",
    "    def __getitem__(self, index):\n",
    "        tokens = self.tokenizer(self.texts[index])\n",
    "        text_tensor = torch.tensor([self.vocab[token] for token in tokens], dtype=torch.long)\n",
    "        feature_tensor = torch.tensor(self.feature_vocab[self.features[index]], dtype=torch.long)\n",
    "        emotion_tensor = torch.tensor(self.emotions[index], dtype=torch.long)\n",
    "        return text_tensor, feature_tensor, emotion_tensor\n",
    "\n"
   ]
  },
  {
   "cell_type": "code",
   "execution_count": 4,
   "id": "f96afb9e",
   "metadata": {},
   "outputs": [],
   "source": [
    "def build_vocab_from_iterator(iterator):\n",
    "    vocab = {}\n",
    "    for tokens in iterator:\n",
    "        for token in tokens:\n",
    "            if token not in vocab:\n",
    "                vocab[token] = len(vocab)\n",
    "    return vocab\n",
    "\n",
    "def build_feature_vocab(features):\n",
    "    feature_vocab = {}\n",
    "    for feature in features:\n",
    "        if feature not in feature_vocab:\n",
    "            feature_vocab[feature] = len(feature_vocab)\n",
    "    return feature_vocab\n",
    "\n",
    "def get_tokenizer():\n",
    "    return lambda text: list(jieba.cut(text))\n",
    "\n",
    "def load_embeddings(embedding_file, vocab):\n",
    "    pretrained_model = gensim.models.KeyedVectors.load_word2vec_format(embedding_file, binary=False)\n",
    "    embedding_matrix = np.zeros((len(vocab), pretrained_model.vector_size))\n",
    "\n",
    "    for word, idx in vocab.items():\n",
    "        if word in pretrained_model:\n",
    "            embedding_matrix[idx] = pretrained_model[word]\n",
    "\n",
    "    return torch.tensor(embedding_matrix, dtype=torch.float32)"
   ]
  }
 ],
 "metadata": {
  "kernelspec": {
   "display_name": "Python 3 (ipykernel)",
   "language": "python",
   "name": "python3"
  },
  "language_info": {
   "codemirror_mode": {
    "name": "ipython",
    "version": 3
   },
   "file_extension": ".py",
   "mimetype": "text/x-python",
   "name": "python",
   "nbconvert_exporter": "python",
   "pygments_lexer": "ipython3",
   "version": "3.10.10"
  }
 },
 "nbformat": 4,
 "nbformat_minor": 5
}
